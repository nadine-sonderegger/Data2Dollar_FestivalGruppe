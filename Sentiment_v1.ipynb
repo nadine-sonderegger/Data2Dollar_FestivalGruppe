{
 "cells": [
  {
   "cell_type": "code",
   "execution_count": 1,
   "metadata": {},
   "outputs": [],
   "source": [
    "import numpy as np\n",
    "import pandas as pd\n",
    "import tweepy\n",
    "from IPython.display import display\n",
    "import matplotlib.pyplot as plt\n",
    "import seaborn as sns\n",
    "%matplotlib inline"
   ]
  },
  {
   "cell_type": "code",
   "execution_count": 2,
   "metadata": {},
   "outputs": [],
   "source": [
    "ACCESS_TOKEN = '1230902594136084480-H4G2asyYOPsDoEAr9yDUNTaq6hZcOW'\n",
    "ACCESS_SECRET = 'vXESwd7kUW0nwlsPIMld8SEBYZcqEUMCjGqB5efzH8YHL'\n",
    "CONSUMER_KEY = 'dAiFKkSETLHJFXsVYzKaAzeCd'\n",
    "CONSUMER_SECRET = '5iZEJ101m0FfdXP4e02waVDr7UwBuFwOYgiwrMtgczLSQljohQ'\n",
    "\n",
    "# screen_name = 'realdonaldtrump'\n",
    "# startDate = datetime.date(2019, 1, 1)\n",
    "# endDate = datetime.date(2019, 12, 31)\n",
    "\n",
    "\n",
    "def twitter_setup():\n",
    "    \"\"\"\n",
    "    Utility function to setup the Twitter's API\n",
    "    with our access keys provided.\n",
    "    \"\"\"\n",
    "    # Authentication and access using keys:\n",
    "    auth = tweepy.OAuthHandler(CONSUMER_KEY, CONSUMER_SECRET)\n",
    "    auth.set_access_token(ACCESS_TOKEN, ACCESS_SECRET)\n",
    "\n",
    "    # Return API with authentication:\n",
    "    api = tweepy.API(auth)\n",
    "    return api"
   ]
  },
  {
   "cell_type": "code",
   "execution_count": 3,
   "metadata": {},
   "outputs": [
    {
     "name": "stdout",
     "output_type": "stream",
     "text": [
      "Number of tweets extracted: 86.\n",
      "\n",
      "5 recent tweets:\n",
      "\n",
      "LIGHT AT THE END OF THE TUNNEL!\n",
      "\n",
      "USA STRONG!\n",
      "\n",
      "Thank you Gayle. I only wish the public could fully understand how corrupt &amp; dishonest so much of our Lamestream Me… https://t.co/tNgx4h7pda\n",
      "\n",
      "For humanitarian reasons, the passengers from the two CoronaVirus stricken cruise ships have been given medical tre… https://t.co/SO7dBO2aEn\n",
      "\n",
      ".@gayletrotter  “To this day the establishment media have not admitted that they were wrong and the President was right.” @FoxNews\n",
      "\n"
     ]
    }
   ],
   "source": [
    "# We create an extractor object:\n",
    "extractor = twitter_setup()\n",
    "\n",
    "# We create a tweet list as follows:\n",
    "tweets = extractor.user_timeline(screen_name=\"realDonaldTrump\",\n",
    "                                 count=200, exlude_replies=1, include_rts=0)\n",
    "print(\"Number of tweets extracted: {}.\\n\".format(len(tweets)))\n",
    "\n",
    "# We print the most recent 5 tweets:\n",
    "print(\"5 recent tweets:\\n\")\n",
    "for tweet in tweets[:5]:\n",
    "    print(tweet.text)\n",
    "    print()\n",
    "\n",
    "# We create a pandas dataframe as follows:\n",
    "data = pd.DataFrame(data=[tweet.text for tweet in tweets], columns=['Tweets'])"
   ]
  },
  {
   "cell_type": "code",
   "execution_count": 4,
   "metadata": {
    "scrolled": true
   },
   "outputs": [
    {
     "data": {
      "text/html": [
       "<div>\n",
       "<style scoped>\n",
       "    .dataframe tbody tr th:only-of-type {\n",
       "        vertical-align: middle;\n",
       "    }\n",
       "\n",
       "    .dataframe tbody tr th {\n",
       "        vertical-align: top;\n",
       "    }\n",
       "\n",
       "    .dataframe thead th {\n",
       "        text-align: right;\n",
       "    }\n",
       "</style>\n",
       "<table border=\"1\" class=\"dataframe\">\n",
       "  <thead>\n",
       "    <tr style=\"text-align: right;\">\n",
       "      <th></th>\n",
       "      <th>Tweets</th>\n",
       "    </tr>\n",
       "  </thead>\n",
       "  <tbody>\n",
       "    <tr>\n",
       "      <th>0</th>\n",
       "      <td>LIGHT AT THE END OF THE TUNNEL!</td>\n",
       "    </tr>\n",
       "    <tr>\n",
       "      <th>1</th>\n",
       "      <td>USA STRONG!</td>\n",
       "    </tr>\n",
       "    <tr>\n",
       "      <th>2</th>\n",
       "      <td>Thank you Gayle. I only wish the public could ...</td>\n",
       "    </tr>\n",
       "    <tr>\n",
       "      <th>3</th>\n",
       "      <td>For humanitarian reasons, the passengers from ...</td>\n",
       "    </tr>\n",
       "    <tr>\n",
       "      <th>4</th>\n",
       "      <td>.@gayletrotter  “To this day the establishment...</td>\n",
       "    </tr>\n",
       "    <tr>\n",
       "      <th>5</th>\n",
       "      <td>https://t.co/j8fKN49P1o</td>\n",
       "    </tr>\n",
       "    <tr>\n",
       "      <th>6</th>\n",
       "      <td>https://t.co/hUVUJb9zSA</td>\n",
       "    </tr>\n",
       "    <tr>\n",
       "      <th>7</th>\n",
       "      <td>White House news conference at 6:45 P.M. Easte...</td>\n",
       "    </tr>\n",
       "    <tr>\n",
       "      <th>8</th>\n",
       "      <td>We are learning much about the Invisible Enemy...</td>\n",
       "    </tr>\n",
       "    <tr>\n",
       "      <th>9</th>\n",
       "      <td>Thank you Gayle! https://t.co/DN4DDoHPtu</td>\n",
       "    </tr>\n",
       "  </tbody>\n",
       "</table>\n",
       "</div>"
      ],
      "text/plain": [
       "                                              Tweets\n",
       "0                    LIGHT AT THE END OF THE TUNNEL!\n",
       "1                                        USA STRONG!\n",
       "2  Thank you Gayle. I only wish the public could ...\n",
       "3  For humanitarian reasons, the passengers from ...\n",
       "4  .@gayletrotter  “To this day the establishment...\n",
       "5                            https://t.co/j8fKN49P1o\n",
       "6                            https://t.co/hUVUJb9zSA\n",
       "7  White House news conference at 6:45 P.M. Easte...\n",
       "8  We are learning much about the Invisible Enemy...\n",
       "9           Thank you Gayle! https://t.co/DN4DDoHPtu"
      ]
     },
     "metadata": {},
     "output_type": "display_data"
    }
   ],
   "source": [
    "display(data.head(10))"
   ]
  },
  {
   "cell_type": "code",
   "execution_count": 5,
   "metadata": {},
   "outputs": [
    {
     "name": "stdout",
     "output_type": "stream",
     "text": [
      "['__class__', '__delattr__', '__dict__', '__dir__', '__doc__', '__eq__', '__format__', '__ge__', '__getattribute__', '__getstate__', '__gt__', '__hash__', '__init__', '__init_subclass__', '__le__', '__lt__', '__module__', '__ne__', '__new__', '__reduce__', '__reduce_ex__', '__repr__', '__setattr__', '__sizeof__', '__str__', '__subclasshook__', '__weakref__', '_api', '_json', 'author', 'contributors', 'coordinates', 'created_at', 'destroy', 'entities', 'favorite', 'favorite_count', 'favorited', 'geo', 'id', 'id_str', 'in_reply_to_screen_name', 'in_reply_to_status_id', 'in_reply_to_status_id_str', 'in_reply_to_user_id', 'in_reply_to_user_id_str', 'is_quote_status', 'lang', 'parse', 'parse_list', 'place', 'retweet', 'retweet_count', 'retweeted', 'retweets', 'source', 'source_url', 'text', 'truncated', 'user']\n"
     ]
    }
   ],
   "source": [
    "print(dir(tweets[0]))"
   ]
  },
  {
   "cell_type": "code",
   "execution_count": 6,
   "metadata": {},
   "outputs": [],
   "source": [
    "# We add relevant data:\n",
    "data['len']  = np.array([len(tweet.text) for tweet in tweets])\n",
    "data['ID']   = np.array([tweet.id for tweet in tweets])\n",
    "data['Date'] = np.array([tweet.created_at for tweet in tweets])\n",
    "data['Source'] = np.array([tweet.source for tweet in tweets])\n",
    "data['Likes']  = np.array([tweet.favorite_count for tweet in tweets])\n",
    "data['RTs']    = np.array([tweet.retweet_count for tweet in tweets])"
   ]
  },
  {
   "cell_type": "code",
   "execution_count": 7,
   "metadata": {},
   "outputs": [
    {
     "data": {
      "text/html": [
       "<div>\n",
       "<style scoped>\n",
       "    .dataframe tbody tr th:only-of-type {\n",
       "        vertical-align: middle;\n",
       "    }\n",
       "\n",
       "    .dataframe tbody tr th {\n",
       "        vertical-align: top;\n",
       "    }\n",
       "\n",
       "    .dataframe thead th {\n",
       "        text-align: right;\n",
       "    }\n",
       "</style>\n",
       "<table border=\"1\" class=\"dataframe\">\n",
       "  <thead>\n",
       "    <tr style=\"text-align: right;\">\n",
       "      <th></th>\n",
       "      <th>Tweets</th>\n",
       "      <th>len</th>\n",
       "      <th>ID</th>\n",
       "      <th>Date</th>\n",
       "      <th>Source</th>\n",
       "      <th>Likes</th>\n",
       "      <th>RTs</th>\n",
       "    </tr>\n",
       "  </thead>\n",
       "  <tbody>\n",
       "    <tr>\n",
       "      <th>0</th>\n",
       "      <td>LIGHT AT THE END OF THE TUNNEL!</td>\n",
       "      <td>31</td>\n",
       "      <td>1247130744260083712</td>\n",
       "      <td>2020-04-06 11:55:14</td>\n",
       "      <td>Twitter for iPhone</td>\n",
       "      <td>51013</td>\n",
       "      <td>11570</td>\n",
       "    </tr>\n",
       "    <tr>\n",
       "      <th>1</th>\n",
       "      <td>USA STRONG!</td>\n",
       "      <td>11</td>\n",
       "      <td>1247130573010845708</td>\n",
       "      <td>2020-04-06 11:54:33</td>\n",
       "      <td>Twitter for iPhone</td>\n",
       "      <td>41664</td>\n",
       "      <td>8523</td>\n",
       "    </tr>\n",
       "    <tr>\n",
       "      <th>2</th>\n",
       "      <td>Thank you Gayle. I only wish the public could ...</td>\n",
       "      <td>144</td>\n",
       "      <td>1247130183477460992</td>\n",
       "      <td>2020-04-06 11:53:00</td>\n",
       "      <td>Twitter for iPhone</td>\n",
       "      <td>15255</td>\n",
       "      <td>4329</td>\n",
       "    </tr>\n",
       "    <tr>\n",
       "      <th>3</th>\n",
       "      <td>For humanitarian reasons, the passengers from ...</td>\n",
       "      <td>140</td>\n",
       "      <td>1247129414485397504</td>\n",
       "      <td>2020-04-06 11:49:57</td>\n",
       "      <td>Twitter for iPhone</td>\n",
       "      <td>19760</td>\n",
       "      <td>4235</td>\n",
       "    </tr>\n",
       "    <tr>\n",
       "      <th>4</th>\n",
       "      <td>.@gayletrotter  “To this day the establishment...</td>\n",
       "      <td>130</td>\n",
       "      <td>1247127098797539329</td>\n",
       "      <td>2020-04-06 11:40:45</td>\n",
       "      <td>Twitter for iPhone</td>\n",
       "      <td>22070</td>\n",
       "      <td>4999</td>\n",
       "    </tr>\n",
       "    <tr>\n",
       "      <th>5</th>\n",
       "      <td>https://t.co/j8fKN49P1o</td>\n",
       "      <td>23</td>\n",
       "      <td>1246963819357880320</td>\n",
       "      <td>2020-04-06 00:51:56</td>\n",
       "      <td>Twitter for iPhone</td>\n",
       "      <td>48856</td>\n",
       "      <td>10854</td>\n",
       "    </tr>\n",
       "    <tr>\n",
       "      <th>6</th>\n",
       "      <td>https://t.co/hUVUJb9zSA</td>\n",
       "      <td>23</td>\n",
       "      <td>1246963794124865537</td>\n",
       "      <td>2020-04-06 00:51:50</td>\n",
       "      <td>Twitter for iPhone</td>\n",
       "      <td>42306</td>\n",
       "      <td>9292</td>\n",
       "    </tr>\n",
       "    <tr>\n",
       "      <th>7</th>\n",
       "      <td>White House news conference at 6:45 P.M. Easte...</td>\n",
       "      <td>60</td>\n",
       "      <td>1246925577967357953</td>\n",
       "      <td>2020-04-05 22:19:59</td>\n",
       "      <td>Twitter for iPhone</td>\n",
       "      <td>92543</td>\n",
       "      <td>14617</td>\n",
       "    </tr>\n",
       "    <tr>\n",
       "      <th>8</th>\n",
       "      <td>We are learning much about the Invisible Enemy...</td>\n",
       "      <td>102</td>\n",
       "      <td>1246884203419099137</td>\n",
       "      <td>2020-04-05 19:35:34</td>\n",
       "      <td>Twitter for iPhone</td>\n",
       "      <td>315063</td>\n",
       "      <td>54314</td>\n",
       "    </tr>\n",
       "    <tr>\n",
       "      <th>9</th>\n",
       "      <td>Thank you Gayle! https://t.co/DN4DDoHPtu</td>\n",
       "      <td>40</td>\n",
       "      <td>1246837639111729153</td>\n",
       "      <td>2020-04-05 16:30:32</td>\n",
       "      <td>Twitter for iPhone</td>\n",
       "      <td>53917</td>\n",
       "      <td>13382</td>\n",
       "    </tr>\n",
       "  </tbody>\n",
       "</table>\n",
       "</div>"
      ],
      "text/plain": [
       "                                              Tweets  len  \\\n",
       "0                    LIGHT AT THE END OF THE TUNNEL!   31   \n",
       "1                                        USA STRONG!   11   \n",
       "2  Thank you Gayle. I only wish the public could ...  144   \n",
       "3  For humanitarian reasons, the passengers from ...  140   \n",
       "4  .@gayletrotter  “To this day the establishment...  130   \n",
       "5                            https://t.co/j8fKN49P1o   23   \n",
       "6                            https://t.co/hUVUJb9zSA   23   \n",
       "7  White House news conference at 6:45 P.M. Easte...   60   \n",
       "8  We are learning much about the Invisible Enemy...  102   \n",
       "9           Thank you Gayle! https://t.co/DN4DDoHPtu   40   \n",
       "\n",
       "                    ID                Date              Source   Likes    RTs  \n",
       "0  1247130744260083712 2020-04-06 11:55:14  Twitter for iPhone   51013  11570  \n",
       "1  1247130573010845708 2020-04-06 11:54:33  Twitter for iPhone   41664   8523  \n",
       "2  1247130183477460992 2020-04-06 11:53:00  Twitter for iPhone   15255   4329  \n",
       "3  1247129414485397504 2020-04-06 11:49:57  Twitter for iPhone   19760   4235  \n",
       "4  1247127098797539329 2020-04-06 11:40:45  Twitter for iPhone   22070   4999  \n",
       "5  1246963819357880320 2020-04-06 00:51:56  Twitter for iPhone   48856  10854  \n",
       "6  1246963794124865537 2020-04-06 00:51:50  Twitter for iPhone   42306   9292  \n",
       "7  1246925577967357953 2020-04-05 22:19:59  Twitter for iPhone   92543  14617  \n",
       "8  1246884203419099137 2020-04-05 19:35:34  Twitter for iPhone  315063  54314  \n",
       "9  1246837639111729153 2020-04-05 16:30:32  Twitter for iPhone   53917  13382  "
      ]
     },
     "metadata": {},
     "output_type": "display_data"
    }
   ],
   "source": [
    "display(data.head(10))"
   ]
  },
  {
   "cell_type": "code",
   "execution_count": 8,
   "metadata": {},
   "outputs": [
    {
     "name": "stdout",
     "output_type": "stream",
     "text": [
      "The lenght's average in tweets: 93.1046511627907\n"
     ]
    }
   ],
   "source": [
    "# We extract the mean of lenghts:\n",
    "mean = np.mean(data['len'])\n",
    "\n",
    "print(\"The lenght's average in tweets: {}\".format(mean))"
   ]
  },
  {
   "cell_type": "code",
   "execution_count": 9,
   "metadata": {},
   "outputs": [
    {
     "name": "stdout",
     "output_type": "stream",
     "text": [
      "The tweet with most likes is: \n",
      "I am a great friend and admirer of the Queen &amp; the United Kingdom. It was reported that Harry and Meghan, who left… https://t.co/93TLGOURbX\n",
      "Number of likes: 538160\n",
      "143 characters.\n",
      "\n",
      "The tweet with most retweets is: \n",
      "I am a great friend and admirer of the Queen &amp; the United Kingdom. It was reported that Harry and Meghan, who left… https://t.co/93TLGOURbX\n",
      "Number of retweets: 99629\n",
      "143 characters.\n",
      "\n"
     ]
    }
   ],
   "source": [
    "# We extract the tweet with more FAVs and more RTs:\n",
    "\n",
    "fav_max = np.max(data['Likes'])\n",
    "rt_max  = np.max(data['RTs'])\n",
    "\n",
    "fav = data[data.Likes == fav_max].index[0]\n",
    "rt  = data[data.RTs == rt_max].index[0]\n",
    "\n",
    "# Max FAVs:\n",
    "print(\"The tweet with most likes is: \\n{}\".format(data['Tweets'][fav]))\n",
    "print(\"Number of likes: {}\".format(fav_max))\n",
    "print(\"{} characters.\\n\".format(data['len'][fav]))\n",
    "\n",
    "# Max RTs:\n",
    "print(\"The tweet with most retweets is: \\n{}\".format(data['Tweets'][rt]))\n",
    "print(\"Number of retweets: {}\".format(rt_max))\n",
    "print(\"{} characters.\\n\".format(data['len'][rt]))"
   ]
  },
  {
   "cell_type": "code",
   "execution_count": 10,
   "metadata": {},
   "outputs": [],
   "source": [
    "# We create time series for data:\n",
    "\n",
    "tlen = pd.Series(data=data['len'].values, index=data['Date'])\n",
    "tfav = pd.Series(data=data['Likes'].values, index=data['Date'])\n",
    "tret = pd.Series(data=data['RTs'].values, index=data['Date'])"
   ]
  },
  {
   "cell_type": "code",
   "execution_count": 11,
   "metadata": {},
   "outputs": [
    {
     "data": {
      "image/png": "[encoded data removed]",
      "text/plain": [
       "<Figure size 1152x288 with 1 Axes>"
      ]
     },
     "metadata": {
      "needs_background": "light"
     },
     "output_type": "display_data"
    }
   ],
   "source": [
    "# Lenghts along time:\n",
    "tlen.plot(figsize=(16,4), color='b');"
   ]
  },
  {
   "cell_type": "code",
   "execution_count": 12,
   "metadata": {},
   "outputs": [
    {
     "data": {
      "image/png": "[encoded data removed]",
      "text/plain": [
       "<Figure size 1152x288 with 1 Axes>"
      ]
     },
     "metadata": {
      "needs_background": "light"
     },
     "output_type": "display_data"
    }
   ],
   "source": [
    "# Likes vs retweets visualization:\n",
    "tfav.plot(figsize=(16,4), label=\"Likes\", legend=True)\n",
    "tret.plot(figsize=(16,4), label=\"Retweets\", legend=True);"
   ]
  },
  {
   "cell_type": "code",
   "execution_count": 13,
   "metadata": {},
   "outputs": [
    {
     "name": "stdout",
     "output_type": "stream",
     "text": [
      "Creation of content sources:\n",
      "* Twitter for iPhone\n"
     ]
    }
   ],
   "source": [
    "# We obtain all possible sources:\n",
    "sources = []\n",
    "for source in data['Source']:\n",
    "    if source not in sources:\n",
    "        sources.append(source)\n",
    "\n",
    "# We print sources list:\n",
    "print(\"Creation of content sources:\")\n",
    "for source in sources:\n",
    "    print(\"* {}\".format(source))"
   ]
  },
  {
   "cell_type": "code",
   "execution_count": 14,
   "metadata": {},
   "outputs": [
    {
     "data": {
      "image/png": "[encoded data removed]",
      "text/plain": [
       "<Figure size 432x432 with 1 Axes>"
      ]
     },
     "metadata": {},
     "output_type": "display_data"
    }
   ],
   "source": [
    "percent = np.zeros(len(sources))\n",
    "\n",
    "for source in data['Source']:\n",
    "    for index in range(len(sources)):\n",
    "        if source == sources[index]:\n",
    "            percent[index] += 1\n",
    "            pass\n",
    "\n",
    "percent /= 100\n",
    "\n",
    "# Pie chart:\n",
    "pie_chart = pd.Series(percent, index=sources, name='Sources')\n",
    "pie_chart.plot.pie(fontsize=11, autopct='%.2f', figsize=(6, 6));"
   ]
  },
  {
   "cell_type": "code",
   "execution_count": 15,
   "metadata": {},
   "outputs": [],
   "source": [
    "from textblob import TextBlob\n",
    "import re\n",
    "\n",
    "def clean_tweet(tweet):\n",
    "    '''\n",
    "    Utility function to clean the text in a tweet by removing \n",
    "    links and special characters using regex.\n",
    "    '''\n",
    "    return ' '.join(re.sub(\"(@[A-Za-z0-9]+)|([^0-9A-Za-z \\t])|(\\w+:\\/\\/\\S+)\", \" \", tweet).split())\n",
    "\n",
    "def analize_sentiment(tweet):\n",
    "    '''\n",
    "    Utility function to classify the polarity of a tweet\n",
    "    using textblob.\n",
    "    '''\n",
    "    analysis = TextBlob(clean_tweet(tweet))\n",
    "    if analysis.sentiment.polarity > 0:\n",
    "        return 1\n",
    "    elif analysis.sentiment.polarity == 0:\n",
    "        return 0\n",
    "    else:\n",
    "        return -1"
   ]
  },
  {
   "cell_type": "code",
   "execution_count": 16,
   "metadata": {
    "scrolled": true
   },
   "outputs": [
    {
     "data": {
      "text/html": [
       "<div>\n",
       "<style scoped>\n",
       "    .dataframe tbody tr th:only-of-type {\n",
       "        vertical-align: middle;\n",
       "    }\n",
       "\n",
       "    .dataframe tbody tr th {\n",
       "        vertical-align: top;\n",
       "    }\n",
       "\n",
       "    .dataframe thead th {\n",
       "        text-align: right;\n",
       "    }\n",
       "</style>\n",
       "<table border=\"1\" class=\"dataframe\">\n",
       "  <thead>\n",
       "    <tr style=\"text-align: right;\">\n",
       "      <th></th>\n",
       "      <th>Tweets</th>\n",
       "      <th>len</th>\n",
       "      <th>ID</th>\n",
       "      <th>Date</th>\n",
       "      <th>Source</th>\n",
       "      <th>Likes</th>\n",
       "      <th>RTs</th>\n",
       "      <th>SA</th>\n",
       "    </tr>\n",
       "  </thead>\n",
       "  <tbody>\n",
       "    <tr>\n",
       "      <th>0</th>\n",
       "      <td>LIGHT AT THE END OF THE TUNNEL!</td>\n",
       "      <td>31</td>\n",
       "      <td>1247130744260083712</td>\n",
       "      <td>2020-04-06 11:55:14</td>\n",
       "      <td>Twitter for iPhone</td>\n",
       "      <td>51013</td>\n",
       "      <td>11570</td>\n",
       "      <td>1</td>\n",
       "    </tr>\n",
       "    <tr>\n",
       "      <th>1</th>\n",
       "      <td>USA STRONG!</td>\n",
       "      <td>11</td>\n",
       "      <td>1247130573010845708</td>\n",
       "      <td>2020-04-06 11:54:33</td>\n",
       "      <td>Twitter for iPhone</td>\n",
       "      <td>41664</td>\n",
       "      <td>8523</td>\n",
       "      <td>1</td>\n",
       "    </tr>\n",
       "    <tr>\n",
       "      <th>2</th>\n",
       "      <td>Thank you Gayle. I only wish the public could ...</td>\n",
       "      <td>144</td>\n",
       "      <td>1247130183477460992</td>\n",
       "      <td>2020-04-06 11:53:00</td>\n",
       "      <td>Twitter for iPhone</td>\n",
       "      <td>15255</td>\n",
       "      <td>4329</td>\n",
       "      <td>-1</td>\n",
       "    </tr>\n",
       "    <tr>\n",
       "      <th>3</th>\n",
       "      <td>For humanitarian reasons, the passengers from ...</td>\n",
       "      <td>140</td>\n",
       "      <td>1247129414485397504</td>\n",
       "      <td>2020-04-06 11:49:57</td>\n",
       "      <td>Twitter for iPhone</td>\n",
       "      <td>19760</td>\n",
       "      <td>4235</td>\n",
       "      <td>0</td>\n",
       "    </tr>\n",
       "    <tr>\n",
       "      <th>4</th>\n",
       "      <td>.@gayletrotter  “To this day the establishment...</td>\n",
       "      <td>130</td>\n",
       "      <td>1247127098797539329</td>\n",
       "      <td>2020-04-06 11:40:45</td>\n",
       "      <td>Twitter for iPhone</td>\n",
       "      <td>22070</td>\n",
       "      <td>4999</td>\n",
       "      <td>-1</td>\n",
       "    </tr>\n",
       "    <tr>\n",
       "      <th>5</th>\n",
       "      <td>https://t.co/j8fKN49P1o</td>\n",
       "      <td>23</td>\n",
       "      <td>1246963819357880320</td>\n",
       "      <td>2020-04-06 00:51:56</td>\n",
       "      <td>Twitter for iPhone</td>\n",
       "      <td>48856</td>\n",
       "      <td>10854</td>\n",
       "      <td>0</td>\n",
       "    </tr>\n",
       "    <tr>\n",
       "      <th>6</th>\n",
       "      <td>https://t.co/hUVUJb9zSA</td>\n",
       "      <td>23</td>\n",
       "      <td>1246963794124865537</td>\n",
       "      <td>2020-04-06 00:51:50</td>\n",
       "      <td>Twitter for iPhone</td>\n",
       "      <td>42306</td>\n",
       "      <td>9292</td>\n",
       "      <td>0</td>\n",
       "    </tr>\n",
       "    <tr>\n",
       "      <th>7</th>\n",
       "      <td>White House news conference at 6:45 P.M. Easte...</td>\n",
       "      <td>60</td>\n",
       "      <td>1246925577967357953</td>\n",
       "      <td>2020-04-05 22:19:59</td>\n",
       "      <td>Twitter for iPhone</td>\n",
       "      <td>92543</td>\n",
       "      <td>14617</td>\n",
       "      <td>0</td>\n",
       "    </tr>\n",
       "    <tr>\n",
       "      <th>8</th>\n",
       "      <td>We are learning much about the Invisible Enemy...</td>\n",
       "      <td>102</td>\n",
       "      <td>1246884203419099137</td>\n",
       "      <td>2020-04-05 19:35:34</td>\n",
       "      <td>Twitter for iPhone</td>\n",
       "      <td>315063</td>\n",
       "      <td>54314</td>\n",
       "      <td>1</td>\n",
       "    </tr>\n",
       "    <tr>\n",
       "      <th>9</th>\n",
       "      <td>Thank you Gayle! https://t.co/DN4DDoHPtu</td>\n",
       "      <td>40</td>\n",
       "      <td>1246837639111729153</td>\n",
       "      <td>2020-04-05 16:30:32</td>\n",
       "      <td>Twitter for iPhone</td>\n",
       "      <td>53917</td>\n",
       "      <td>13382</td>\n",
       "      <td>0</td>\n",
       "    </tr>\n",
       "  </tbody>\n",
       "</table>\n",
       "</div>"
      ],
      "text/plain": [
       "                                              Tweets  len  \\\n",
       "0                    LIGHT AT THE END OF THE TUNNEL!   31   \n",
       "1                                        USA STRONG!   11   \n",
       "2  Thank you Gayle. I only wish the public could ...  144   \n",
       "3  For humanitarian reasons, the passengers from ...  140   \n",
       "4  .@gayletrotter  “To this day the establishment...  130   \n",
       "5                            https://t.co/j8fKN49P1o   23   \n",
       "6                            https://t.co/hUVUJb9zSA   23   \n",
       "7  White House news conference at 6:45 P.M. Easte...   60   \n",
       "8  We are learning much about the Invisible Enemy...  102   \n",
       "9           Thank you Gayle! https://t.co/DN4DDoHPtu   40   \n",
       "\n",
       "                    ID                Date              Source   Likes    RTs  \\\n",
       "0  1247130744260083712 2020-04-06 11:55:14  Twitter for iPhone   51013  11570   \n",
       "1  1247130573010845708 2020-04-06 11:54:33  Twitter for iPhone   41664   8523   \n",
       "2  1247130183477460992 2020-04-06 11:53:00  Twitter for iPhone   15255   4329   \n",
       "3  1247129414485397504 2020-04-06 11:49:57  Twitter for iPhone   19760   4235   \n",
       "4  1247127098797539329 2020-04-06 11:40:45  Twitter for iPhone   22070   4999   \n",
       "5  1246963819357880320 2020-04-06 00:51:56  Twitter for iPhone   48856  10854   \n",
       "6  1246963794124865537 2020-04-06 00:51:50  Twitter for iPhone   42306   9292   \n",
       "7  1246925577967357953 2020-04-05 22:19:59  Twitter for iPhone   92543  14617   \n",
       "8  1246884203419099137 2020-04-05 19:35:34  Twitter for iPhone  315063  54314   \n",
       "9  1246837639111729153 2020-04-05 16:30:32  Twitter for iPhone   53917  13382   \n",
       "\n",
       "   SA  \n",
       "0   1  \n",
       "1   1  \n",
       "2  -1  \n",
       "3   0  \n",
       "4  -1  \n",
       "5   0  \n",
       "6   0  \n",
       "7   0  \n",
       "8   1  \n",
       "9   0  "
      ]
     },
     "metadata": {},
     "output_type": "display_data"
    }
   ],
   "source": [
    "# We create a column with the result of the analysis:\n",
    "data['SA'] = np.array([ analize_sentiment(tweet) for tweet in data['Tweets'] ])\n",
    "\n",
    "# We display the updated dataframe with the new column:\n",
    "display(data.head(10))"
   ]
  },
  {
   "cell_type": "code",
   "execution_count": 17,
   "metadata": {},
   "outputs": [],
   "source": [
    "# We construct lists with classified tweets:\n",
    "\n",
    "pos_tweets = [ tweet for index, tweet in enumerate(data['Tweets']) if data['SA'][index] > 0]\n",
    "neu_tweets = [ tweet for index, tweet in enumerate(data['Tweets']) if data['SA'][index] == 0]\n",
    "neg_tweets = [ tweet for index, tweet in enumerate(data['Tweets']) if data['SA'][index] < 0]"
   ]
  },
  {
   "cell_type": "code",
   "execution_count": 19,
   "metadata": {},
   "outputs": [
    {
     "name": "stdout",
     "output_type": "stream",
     "text": [
      "Percentage of positive tweets: 45.348837209302324%\n",
      "Percentage of neutral tweets: 37.2093023255814%\n",
      "Percentage of negative tweets: 17.441860465116278%\n"
     ]
    }
   ],
   "source": [
    "# We print percentages:\n",
    "\n",
    "print(\"Percentage of positive tweets: {}%\".format(len(pos_tweets)*100/len(data['Tweets'])))\n",
    "print(\"Percentage of neutral tweets: {}%\".format(len(neu_tweets)*100/len(data['Tweets'])))\n",
    "print(\"Percentage of negative tweets: {}%\".format(len(neg_tweets)*100/len(data['Tweets'])))\n"
   ]
  },
  {
   "cell_type": "code",
   "execution_count": null,
   "metadata": {},
   "outputs": [],
   "source": []
  }
 ],
 "metadata": {
  "kernelspec": {
   "display_name": "Python 3",
   "language": "python",
   "name": "python3"
  },
  "language_info": {
   "codemirror_mode": {
    "name": "ipython",
    "version": 3
   },
   "file_extension": ".py",
   "mimetype": "text/x-python",
   "name": "python",
   "nbconvert_exporter": "python",
   "pygments_lexer": "ipython3",
   "version": "3.7.6"
  }
 },
 "nbformat": 4,
 "nbformat_minor": 2
}
